{
 "cells": [
  {
   "cell_type": "raw",
   "id": "6796ee06-2d1a-41af-9805-def02b2b3bb6",
   "metadata": {
    "tags": []
   },
   "source": [
    "---\n",
    "title: \"Reprojection and Regridding Forcing Data\"\n",
    "format:\n",
    "    html:\n",
    "    code-fold: false\n",
    "---"
   ]
  },
  {
   "cell_type": "markdown",
   "id": "5f797bcc-f33a-493d-a80a-731ab56ea4af",
   "metadata": {},
   "source": [
    "# Reprojection and Regridding\n",
    "\n",
    "This notebook demonstrates regridding input data for the pan-Arctic datasets"
   ]
  },
  {
   "cell_type": "code",
   "execution_count": null,
   "id": "88e78511-1149-4b82-8dcc-477317a8b692",
   "metadata": {
    "tags": []
   },
   "outputs": [],
   "source": [
    "from pathlib import Path\n",
    "\n",
    "import rioxarray as riox\n",
    "import xarray as xr\n",
    "\n",
    "from affine import Affine\n",
    "\n",
    "import matplotlib.pyplot as plt\n",
    "import cartopy.crs as ccrs\n",
    "from pyproj import CRS\n",
    "\n",
    "DATAPATH = Path(\".\") / \"..\" / \"data\"\n",
    "\n",
    "example_file = DATAPATH / \"NSIDC0051_SEAICE_PS_N25km_20220531_v2.0.nc\""
   ]
  },
  {
   "cell_type": "markdown",
   "id": "29141b83-8550-4559-984a-21afaf0d2c03",
   "metadata": {},
   "source": [
    "`rioxarray.rio.project` needs information about the target projection and grid definition.  Projection information can be provided as an EPSG code, a proj4 string or a Well Known Text (WKT).  Unfortunately, the EPSG code for the EASE Grid North Projection (3408) has been depreciated.  `gdal` defaults to the EASE Grid v2.0 North projection.  **This is the wrong projection**. So the projection must be defined using either a proj4 string or WKT.  We use a proj4 string. \n",
    "\n",
    "This is because of the reference datum not being fully specified _confirm this_."
   ]
  },
  {
   "cell_type": "code",
   "execution_count": null,
   "id": "e35755b3-d44e-4178-8a1e-790310e50f18",
   "metadata": {
    "tags": []
   },
   "outputs": [],
   "source": [
    "EASE_Grid_North = \"+proj=laea +lat_0=90 +lon_0=0 +x_0=0 +y_0=0 +R=6371228 +units=m +no_defs +type=crs\""
   ]
  },
  {
   "cell_type": "code",
   "execution_count": null,
   "id": "d5470466-f9be-46d8-a32a-ce4fd1a6234b",
   "metadata": {
    "tags": []
   },
   "outputs": [],
   "source": [
    "EASEGridNorth = CRS.from_proj4(EASE_Grid_North)"
   ]
  },
  {
   "cell_type": "code",
   "execution_count": null,
   "id": "807f8d93-4201-4720-8e3c-cd5c304daa54",
   "metadata": {
    "tags": []
   },
   "outputs": [],
   "source": [
    "EASEGridNorth.to_dict()"
   ]
  },
  {
   "cell_type": "markdown",
   "id": "63f8b051-bde7-4a89-b644-7935dcfc58e8",
   "metadata": {},
   "source": [
    "The grid definition tells the reprojection tools the size of grid cells, the size of the grid and the x and y projected coordinates of the grid.  We want to reproject and resample the data to the 721 x 721 25 km EASE Grid.  The grid parameters for this grid are:\n",
    "\n",
    "| Parameter | Value |\n",
    "|-----------|-------|\n",
    "| Number of Columns | 721 |\n",
    "| Number of Rows | 721 |\n",
    "| Pixel width in m | 25067.53 | \n",
    "| Pixel height in m | -25067.53 | \n",
    "| x-axis map coordinate of the outer edge of the upper-left pixel | -9036842.76\t|\n",
    "| y-axis map coordinate of the outer edge of the upper-left pixel |  9036842.76 |\n",
    "\n",
    "This information is taken from this table of [EASE Grid parameters](https://nsidc.org/data/user-resources/help-center/guide-ease-grids#anchor-9).  You'll notice that in the table above, the pixel height is negative.  This is because the grid origin is the corner of the upper left pixel.  Pixels below this upper-left pixel will be less than the y-axis coordinate _Not the best description_."
   ]
  },
  {
   "cell_type": "code",
   "execution_count": null,
   "id": "06490fce-a192-451f-af14-11236103e6a6",
   "metadata": {
    "tags": []
   },
   "outputs": [],
   "source": [
    "columns = 721\n",
    "rows = 721\n",
    "pixel_width_m = 25067.5\n",
    "pixel_height_m = -25067.5\n",
    "grid_origin_x_m = -9036842.76\n",
    "grid_origin_y_m = 9036842.76"
   ]
  },
  {
   "cell_type": "markdown",
   "id": "4c719387-c50d-432c-ac65-ad7a34cfffb7",
   "metadata": {},
   "source": [
    "We can now define a `GeoTransform`.  This is an Affine matrix that is used by gdal to calculate x and y coordinates of pixels.\n",
    "\n",
    "$$\n",
    "$$"
   ]
  },
  {
   "cell_type": "code",
   "execution_count": null,
   "id": "1cb66eec-fbde-4747-b2ec-bd52384963c7",
   "metadata": {
    "tags": []
   },
   "outputs": [],
   "source": [
    "geotransform = (grid_origin_x_m, pixel_width_m, 0., grid_origin_y_m, 0., pixel_height_m)\n",
    "grid_definition = Affine.from_gdal(*geotransform)\n",
    "grid_definition"
   ]
  },
  {
   "cell_type": "code",
   "execution_count": null,
   "id": "a0dd824f-0aea-4fae-acdd-dc3c568a73a8",
   "metadata": {
    "tags": []
   },
   "outputs": [],
   "source": [
    "ds = xr.open_dataset(example_file, decode_coords=\"all\")\n",
    "ds"
   ]
  },
  {
   "cell_type": "code",
   "execution_count": null,
   "id": "1b2d8259-1f9a-4dd0-95e6-0f00d20af702",
   "metadata": {
    "tags": []
   },
   "outputs": [],
   "source": [
    "ds_ease = ds.rio.reproject(EASE_Grid_North, transform=grid_definition, shape=(columns, rows))\n",
    "ds_ease"
   ]
  },
  {
   "cell_type": "code",
   "execution_count": null,
   "id": "759b9196-3274-4d59-b3ff-9ee0e8fe50f7",
   "metadata": {
    "tags": []
   },
   "outputs": [],
   "source": [
    "EASEGridNorth_ccrs = ccrs.CRS(EASEGridNorth.to_dict())"
   ]
  },
  {
   "cell_type": "code",
   "execution_count": null,
   "id": "2ffea248-a54e-4ee4-a02f-7ce9623e8a3e",
   "metadata": {
    "tags": []
   },
   "outputs": [],
   "source": [
    "EASEGridNorth_ccrs"
   ]
  },
  {
   "cell_type": "code",
   "execution_count": null,
   "id": "9532e02d-29d9-4abe-b7a9-9af51773e825",
   "metadata": {
    "tags": []
   },
   "outputs": [],
   "source": [
    "EASEGridNorth_ccrs = ccrs.LambertAzimuthalEqualArea(central_longitude=0., central_latitude=90., \n",
    "                                                    globe=ccrs.Globe(semimajor_axis=6371228))\n",
    "fig = plt.figure(figsize=(12, 7))\n",
    "\n",
    "ax1 = fig.add_subplot(121, projection=EASEGridNorth_ccrs)\n",
    "ax2 = fig.add_subplot(122, projection=EASEGridNorth_ccrs)\n",
    "\n",
    "ds.F17_ICECON[0,:,:].plot.imshow(ax=ax1, interpolation=\"none\")\n",
    "#ax1.set_extent()\n",
    "    \n",
    "ds_ease.F17_ICECON[0,:,:].plot.imshow(ax=ax2, interpolation=\"none\")"
   ]
  },
  {
   "cell_type": "code",
   "execution_count": null,
   "id": "d2b42c03-e4ec-493d-81c8-0967414debb4",
   "metadata": {},
   "outputs": [],
   "source": [
    "APPX_PATH = Path(\"/home/apbarret/Data/Sunlight_under_seaice/POLAR_APP_X\") / \"1982\""
   ]
  },
  {
   "cell_type": "code",
   "execution_count": null,
   "id": "330722e8-d0ad-4a9d-9b87-17f028330c6f",
   "metadata": {
    "tags": []
   },
   "outputs": [],
   "source": [
    "appx_filelist = list(APPX_PATH.glob(\"*\"))"
   ]
  },
  {
   "cell_type": "code",
   "execution_count": null,
   "id": "2a5bc570-5911-4a79-8d62-8629b737a16c",
   "metadata": {
    "tags": []
   },
   "outputs": [],
   "source": [
    "appxf = appx_filelist[0]"
   ]
  },
  {
   "cell_type": "code",
   "execution_count": null,
   "id": "209dd378-5927-47ed-a9fc-6d492ae9038c",
   "metadata": {
    "tags": []
   },
   "outputs": [],
   "source": [
    "variables = [\n",
    "    'cdr_surface_albedo',\n",
    "    'cdr_surface_downwelling_shortwave_flux',\n",
    "    'cdr_surface_temperature',\n",
    "]\n",
    "ds = xr.open_dataset(appxf, )\n",
    "ds"
   ]
  },
  {
   "cell_type": "code",
   "execution_count": null,
   "id": "67cef80b-5678-4260-a397-b8e1faf9cd29",
   "metadata": {},
   "outputs": [],
   "source": []
  }
 ],
 "metadata": {
  "kernelspec": {
   "display_name": "Python 3 (ipykernel)",
   "language": "python",
   "name": "python3"
  },
  "language_info": {
   "codemirror_mode": {
    "name": "ipython",
    "version": 3
   },
   "file_extension": ".py",
   "mimetype": "text/x-python",
   "name": "python",
   "nbconvert_exporter": "python",
   "pygments_lexer": "ipython3",
   "version": "3.10.0"
  }
 },
 "nbformat": 4,
 "nbformat_minor": 5
}
