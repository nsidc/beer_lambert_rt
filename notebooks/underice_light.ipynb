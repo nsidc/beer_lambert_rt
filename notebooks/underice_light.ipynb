{
 "cells": [
  {
   "cell_type": "markdown",
   "id": "0708b1d2-95aa-473d-871a-4a86e3057965",
   "metadata": {
    "tags": []
   },
   "source": [
    "---\n",
    "title: \"Light Under Sea Ice\"\n",
    "author: \"Andrew P. Barrett\"\n",
    "date: \"2023-02-24\"\n",
    "bibliography: \"../docs/references.bib\"\n",
    "format:\n",
    "    html:\n",
    "        code-fold: false       \n",
    "---"
   ]
  },
  {
   "cell_type": "markdown",
   "id": "a9a15168-4efa-4cf6-882e-e48fa2c530fe",
   "metadata": {
    "tags": []
   },
   "source": [
    "```{python}\n",
    "#| fold-code: true\n",
    "from IPython.display import Markdown\n",
    "#from tabulate import tabulate\n",
    "```"
   ]
  },
  {
   "cell_type": "markdown",
   "id": "d7a3b0b5-e3a3-4b93-b7f2-86039e223dbe",
   "metadata": {},
   "source": [
    "# Light under sea ice\n",
    "\n",
    "The notebook demonstrates estimating photosynthetically active radiation (PAR) under sea ice following @stroeve_multi-sensor_2021.  The approach of @stroeve_multi-sensor_2021 is based on that of @maykut1971 and @grenfell_optical_1977.  The approach uses apparent optical properties (albedo $\\alpha$ and attenuation coefficient $\\kappa$) in a two level Bouger-Lambert-Beer exponential decay model.  The first level represents the surface scattering layer - not included for dry snow.  The second level is snow-ice column.\n",
    "\n",
    "_Need a description of what the snow sea ice column looks like with a diagram and maybe some images_ \n",
    "\n",
    "The model is implemented here, first, using basic numpy functions.  It is then extended to account for distributions of ice thickness and snow depth.  "
   ]
  },
  {
   "cell_type": "code",
   "execution_count": 23,
   "id": "1971fee2-bc33-44e9-81cc-e9e3761e6a0a",
   "metadata": {
    "tags": []
   },
   "outputs": [],
   "source": [
    "import numpy as np\n",
    "\n",
    "from beer_lambert_rt.constants import (hssl_ice, hssl_dry_snow, hssl_wet_snow,\n",
    "                                       k_ice, k_dry_snow, k_wet_snow, k_thin_snow,\n",
    "                                       i0_ice, i0_dry_snow, i0_wet_snow, i0_melt_ponds,\n",
    "                                       albedo_open_water)"
   ]
  },
  {
   "cell_type": "markdown",
   "id": "52f80883-d369-45eb-9079-59792221180d",
   "metadata": {},
   "source": [
    "## Bouger-Lambert-Beer Model\n",
    "\n",
    "The Bouger-Lambert-Beer model is an approximation of the Radiative Transfer Equation that assumes all attenuation in a medium occurs by absorption.  Single scattering and multiple scattering terms vanish.  Radiative flux $F$ at the base of a column of depth $z$ is given by;\n",
    "\n",
    "$$\n",
    "F = F_{0}\\exp{(- \\kappa z)}\n",
    "$$ {#eq-expontential_attenuation}\n",
    "\n",
    "where $F_{0}$ is the radiative flux at the upper surface of the medium of interest and $\\kappa$ is the attenuation coefficient of the medium.\n",
    "\n",
    "Sea ice may be covered by snow.  Furthermore, wet snow and bare sea ice have a surface scattering layer (SSL) that may be up to 10 cm in depth.  Incoming solar radiation is absorbed (or scattered) by this SSL.  @maykut1971 account for this reduction in radiation transmitted through the SSL with a surface transmission function $i_{0}$.  Radiation is then attenuated by the snow (if present) and ice layers below the SSL.  Snow and ice have different attenuation coefficients (_Need Ref_).  The transmission coefficient $T_{ocean}$ for a snow covered ice is the product of two exponential terms, one for snow and one for ice.\n",
    "\n",
    "$$\n",
    "T_{ocean} = i_{0,snow} (1 - \\alpha_{snow}) \\exp(-\\kappa_{snow}(h_{snow} - h_{ssl})) \\exp(-\\kappa_{ice} h_{ice})\n",
    "$$\n",
    "\n",
    "where $i_{0,snow}$ is the surface transmission parameter for snow, $\\alpha_{snow}$ is the snow albedo, $\\kappa_{snow}$ and $\\kappa_{ice}$ are attenuation coeffiecnts for snow and ice, and $h_{snow}$, $h_{ssl}$ and $h_{ice}$ are snow depth, thickness of the SSL, and ice thickness respectively.\n",
    "\n",
    "For bare ice\n",
    "\n",
    "$$\n",
    "T_{ocean} = i_{0,ice} (1 - \\alpha_{ice}) \\exp(-\\kappa_{ice} (h_{ice} - h_{ssl}))\n",
    "$$\n",
    "\n",
    "Radiative flux at the ice-ocean interface is then\n",
    "\n",
    "$$\n",
    "F_{ocean} = F_{0} T_{ocean}\n",
    "$$\n"
   ]
  },
  {
   "cell_type": "code",
   "execution_count": 28,
   "id": "79478729-affa-41bd-9790-f4f15085dfe0",
   "metadata": {
    "tags": []
   },
   "outputs": [
    {
     "data": {
      "text/plain": [
       "0.005464744489458511"
      ]
     },
     "execution_count": 28,
     "metadata": {},
     "output_type": "execute_result"
    }
   ],
   "source": [
    "def transmission_snow(hsnow, hice, albedo):\n",
    "    \"\"\"Returns transmission coeficient for a snow ice column\"\"\"\n",
    "    return (i0_dry_snow * (1 - albedo) * \n",
    "            np.exp(-1 * k_dry_snow * (hsnow - hssl_dry_snow)) * \n",
    "            np.exp(-1 * k_ice * hice))\n",
    "\n",
    "hice = 1.5\n",
    "hsnow = .3\n",
    "hpond = 0.\n",
    "albedo = 0.8\n",
    "surface_temperature = -10.\n",
    "\n",
    "transmission_snow(hsnow, hice, albedo)"
   ]
  },
  {
   "cell_type": "code",
   "execution_count": 7,
   "id": "b1a53200-6a62-4073-b5da-a9b89e4f71f8",
   "metadata": {
    "tags": []
   },
   "outputs": [
    {
     "name": "stdout",
     "output_type": "stream",
     "text": [
      "Dry snow covered ice\n"
     ]
    }
   ],
   "source": [
    "transmission.calculate_transmission(hice, hsnow, hpond, surface_temperature)"
   ]
  },
  {
   "cell_type": "code",
   "execution_count": null,
   "id": "0fc883dc-7a16-4152-bed0-793fb6773d65",
   "metadata": {},
   "outputs": [],
   "source": []
  }
 ],
 "metadata": {
  "kernelspec": {
   "display_name": "Python 3 (ipykernel)",
   "language": "python",
   "name": "python3"
  },
  "language_info": {
   "codemirror_mode": {
    "name": "ipython",
    "version": 3
   },
   "file_extension": ".py",
   "mimetype": "text/x-python",
   "name": "python",
   "nbconvert_exporter": "python",
   "pygments_lexer": "ipython3",
   "version": "3.10.0"
  }
 },
 "nbformat": 4,
 "nbformat_minor": 5
}
