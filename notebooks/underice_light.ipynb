{
 "cells": [
  {
   "cell_type": "raw",
   "id": "4fe629ff-ec20-4054-8f97-d283aba9afba",
   "metadata": {
    "tags": []
   },
   "source": [
    "---\n",
    "title: \"Light Under Sea Ice\"\n",
    "author: \"Andrew P. Barrett\"\n",
    "date: \"2023-02-24\"\n",
    "bibliography: \"../docs/references.bib\"\n",
    "format:\n",
    "    html:\n",
    "        code-fold: false       \n",
    "---"
   ]
  },
  {
   "cell_type": "raw",
   "id": "10d99445-f87c-4979-80c3-c86c13ee2ef5",
   "metadata": {
    "tags": []
   },
   "source": [
    "```{python}\n",
    "#| fold-code: true\n",
    "from IPython.display import Markdown\n",
    "#from tabulate import tabulate\n",
    "```"
   ]
  },
  {
   "cell_type": "markdown",
   "id": "d7a3b0b5-e3a3-4b93-b7f2-86039e223dbe",
   "metadata": {},
   "source": [
    "# Light under sea ice\n",
    "\n",
    "The notebook demonstrates estimating photosynthetically active radiation (PAR) under sea ice following @stroeve_multi-sensor_2021.  The approach of @stroeve_multi-sensor_2021 is based on that of @maykut1971 and @grenfell_optical_1977.  The approach uses apparent optical properties (albedo $\\alpha$ and attenuation coefficient $\\kappa$) in a two level Bouger-Lambert-Beer exponential decay model.  The first level represents the surface scattering layer - not included for dry snow.  The second level is snow-ice column.\n",
    "\n",
    "_Need a description of what the snow sea ice column looks like with a diagram and maybe some images_ \n",
    "\n",
    "The model is implemented here, first, using basic numpy functions.  It is then extended to account for distributions of ice thickness and snow depth.  "
   ]
  },
  {
   "cell_type": "code",
   "execution_count": 1,
   "id": "1971fee2-bc33-44e9-81cc-e9e3761e6a0a",
   "metadata": {
    "tags": []
   },
   "outputs": [],
   "source": [
    "import numpy as np\n",
    "\n",
    "from beer_lambert_rt.constants import (hssl_ice, hssl_dry_snow, hssl_wet_snow,\n",
    "                                       k_ice, k_dry_snow, k_wet_snow, k_thin_wet_snow,\n",
    "                                       i0_ice, i0_dry_snow, i0_wet_snow, i0_melt_ponds,\n",
    "                                       albedo_open_water)\n",
    "import beer_lambert_rt.transmission as transmission\n",
    "from beer_lambert_rt.original_functions import get_f_att_snow"
   ]
  },
  {
   "cell_type": "markdown",
   "id": "52f80883-d369-45eb-9079-59792221180d",
   "metadata": {},
   "source": [
    "## Bouger-Lambert-Beer Model\n",
    "\n",
    "The Bouger-Lambert-Beer model is an approximation of the Radiative Transfer Equation that assumes all attenuation in a medium occurs by absorption.  Single scattering and multiple scattering terms vanish.  Radiative flux $F$ at the base of a column of depth $z$ is given by;\n",
    "\n",
    "$$\n",
    "F = F_{0}\\exp{(- \\kappa z)}\n",
    "$$ {#eq-expontential_attenuation}\n",
    "\n",
    "where $F_{0}$ is the radiative flux at the upper surface of the medium of interest and $\\kappa$ is the attenuation coefficient of the medium.\n",
    "\n",
    "Sea ice may be covered by snow.  Furthermore, wet snow and bare sea ice have a surface scattering layer (SSL) that may be up to 10 cm in depth.  Incoming solar radiation is absorbed (or scattered) by this SSL.  @maykut1971 account for this reduction in radiation transmitted through the SSL with a surface transmission function $i_{0}$.  Radiation is then attenuated by the snow (if present) and ice layers below the SSL.  Snow and ice have different attenuation coefficients (_Need Ref_).  The transmission coefficient $T_{ocean}$ for a snow covered ice is the product of two exponential terms, one for snow and one for ice.\n",
    "\n",
    "$$\n",
    "T_{ocean} = i_{0,snow} (1 - \\alpha_{snow}) \\exp(-\\kappa_{snow}(h_{snow} - h_{ssl})) \\exp(-\\kappa_{ice} h_{ice})\n",
    "$$\n",
    "\n",
    "where $i_{0,snow}$ is the surface transmission parameter for snow, $\\alpha_{snow}$ is the snow albedo, $\\kappa_{snow}$ and $\\kappa_{ice}$ are attenuation coeffiecnts for snow and ice, and $h_{snow}$, $h_{ssl}$ and $h_{ice}$ are snow depth, thickness of the SSL, and ice thickness respectively.\n",
    "\n",
    "For bare ice\n",
    "\n",
    "$$\n",
    "T_{ocean} = i_{0,ice} (1 - \\alpha_{ice}) \\exp(-\\kappa_{ice} (h_{ice} - h_{ssl}))\n",
    "$$\n",
    "\n",
    "Radiative flux at the ice-ocean interface is then\n",
    "\n",
    "$$\n",
    "F_{ocean} = F_{0} T_{ocean}\n",
    "$$\n"
   ]
  },
  {
   "cell_type": "markdown",
   "id": "37e7ff84-73bd-45f6-b7f0-5821d38ae40b",
   "metadata": {},
   "source": [
    "### Implementation\n",
    "\n",
    "The code cell below demonstrates how the Beer-Lambert RT modelis implemented.  \n",
    "\n",
    "Rather than having separate functions for each situation or having a complex nest of _if-elif-else_ conditional blocks, parameters are first selected based on snow depth (if present), skin temperature, melt pond depth (if present) and ice thickness.  These are then passed to a pair of common of exponential decay functions: one for snow and one for ice.\n",
    "\n",
    "$$\n",
    "esnow = \\exp{[-\\kappa_{snow}(h_{snow} - h_{ssl})]}\n",
    "$$\n",
    "\n",
    "and\n",
    "\n",
    "$$\n",
    "eice = \\exp{[-\\kappa_{ice}(h_{ice} - h_{ssl})]}\n",
    "$$\n",
    "\n",
    "$esnow$ evaluates to 1 if $h_{snow}$ is zero.  $eice$ could also evaulate to 1. if $h_{ice}$ is also zero.  But this situation will raise a `ValueError` in the code.\n",
    "\n",
    "The surface transmission parameter $i_0$ is also selected based on surface conditions (surface type: base ice, melting snow, dry snow or pond) and temperature.  The total transmittance for the snow-ice-pond column is the product of $esnow$, $eice$ and $i_0$.\n",
    "\n",
    "This approach has several benefits.  First, it is clearer because it avoids the _if-elif-else_ structures.  Second it is more efficient.  Conditionals take time to evaluate.  I utilize the `numpy.piecewise` and `numpy.select` functions.  This allows arrays for `hce`, `hsnow`, `hpond` and `surface_temperature` to be passed and evaulated at once.  Third, it is easier to maintain and make changes to the code.  Functions to select parameters can be modified individually without having to modify the transmittance function.  There is also the possibility to have methods to select parameterizations, as is demonstrated by the surface scattering parameterizations: `green_edge_hssl_*` and `cice_hssl_*`."
   ]
  },
  {
   "cell_type": "code",
   "execution_count": 2,
   "id": "14ebe221-e7c8-4ec8-971c-d3e705aed998",
   "metadata": {
    "tags": []
   },
   "outputs": [
    {
     "name": "stdout",
     "output_type": "stream",
     "text": [
      "hsnow: 0.0\n",
      "hice: 1.5\n",
      "hpond: 0.0\n",
      "surface_temperature: 0.0\n",
      "\n",
      "Surface type: Bare ice\n",
      "Surface transmission (i0): 0.26\n",
      "SSL thickness ice: 0.1\n",
      "SSL thickness snow: 0.0\n",
      "Attenuation ice (kice): 1.0\n",
      "\n",
      "Calculate transmittance\n",
      "Snow component of transmittance: 1.0000\n",
      "Ice component of transmittance: 0.2466\n",
      "Total transmittance: 0.0641\n"
     ]
    }
   ],
   "source": [
    "hice = 1.5\n",
    "hsnow = 0.\n",
    "hpond = 0.\n",
    "surface_temperature = 0.\n",
    "\n",
    "i0 = transmission.select_surface_transmission(hice, hsnow, hpond, surface_temperature)\n",
    "hssl_ice = transmission.green_edge_hssl_ice(hice, hsnow, hpond)\n",
    "hssl_snow = transmission.green_edge_hssl_snow(hsnow, surface_temperature)\n",
    "kice = transmission.select_attenuation_ice(hice)\n",
    "ksnow = transmission.select_attenuation_snow(hsnow, surface_temperature)\n",
    "\n",
    "# Evaluates to zero when hsnow is zero\n",
    "esnow = np.exp(-1. * ksnow * (hsnow - hssl_snow))\n",
    "\n",
    "eice = np.exp(-1. * kice * (hice - hssl_ice))\n",
    "\n",
    "transmittance = i0 * esnow * eice\n",
    "\n",
    "print(f\"hsnow: {hsnow}\")\n",
    "print(f\"hice: {hice}\")\n",
    "print(f\"hpond: {hpond}\")\n",
    "print(f\"surface_temperature: {surface_temperature}\")\n",
    "print(\"\")\n",
    "print(f\"Surface type: {transmission.surface_type(hice, hsnow, hpond, surface_temperature)}\")\n",
    "print(f\"Surface transmission (i0): {i0}\")\n",
    "print(f\"SSL thickness ice: {hssl_ice}\")\n",
    "print(f\"SSL thickness snow: {hssl_snow}\")\n",
    "print(f\"Attenuation ice (kice): {kice}\")\n",
    "print(\"\")\n",
    "print(\"Calculate transmittance\")\n",
    "print(f\"Snow component of transmittance: {esnow:5.4f}\")\n",
    "print(f\"Ice component of transmittance: {eice:5.4f}\")\n",
    "print(f\"Total transmittance: {transmittance:5.4f}\")"
   ]
  },
  {
   "cell_type": "markdown",
   "id": "9735f29e-0536-4ef2-8f84-d661bcd0bc07",
   "metadata": {},
   "source": [
    "## Running the tranmittance function\n",
    "\n",
    "This section compares the refactored transmittance function with the original transmittance function `get_f_att_snow`.  In spite of the name, the original function calculates transmittance for snow covered ice, when the snow is dry and wet, and bare ice.  It does not calculate transmittance for melt ponds.\n",
    "\n",
    "The new refactored code calculates transmittance for snow covered and bare ice conditions, and for melt ponds.\n",
    "\n",
    "N.B. The equations for transmittance (see above) include albedo.  Neither the original code nor the refactored code include albedo in the calculations."
   ]
  },
  {
   "cell_type": "markdown",
   "id": "b5dc500f-1f96-4b4f-89da-c09f5c9e58e1",
   "metadata": {},
   "source": [
    "The original and refactored code are tested on 8 cases that capture the parameterizations of surface transmission, snow and ice attenuation coefficients, and surface scattering layer.  These test cases are in the `SURFACE_CONDITION` variable.  These a printed below"
   ]
  },
  {
   "cell_type": "code",
   "execution_count": 6,
   "id": "1563f307-ac0a-4e0e-b290-89b6d9d04432",
   "metadata": {},
   "outputs": [],
   "source": [
    "from tests.test_transmission import SURFACE_CONDITION\n",
    "\n",
    "def unpack_case(case):\n",
    "    \"\"\"Gets the variables for a case and returns a tuple of numpy.arrays\"\"\"\n",
    "    return (np.array(case[varname]) for varname in [\"hice\", \"hsnow\", \"hpond\", \"skin_temperature\"])"
   ]
  },
  {
   "cell_type": "code",
   "execution_count": 12,
   "id": "6c8e5fa1-c107-4c4d-9b3a-8f646b9184e3",
   "metadata": {
    "tags": []
   },
   "outputs": [
    {
     "name": "stdout",
     "output_type": "stream",
     "text": [
      "Dry Snow:         hsnow=0.30, hice=1.50, hpond=0.0, skin_temp=-10.0\n",
      "Wet Snow:         hsnow=0.30, hice=1.50, hpond=0.0, skin_temp=  0.0\n",
      "Thin Wet Snow:    hsnow=0.01, hice=1.50, hpond=0.0, skin_temp=  0.0\n",
      "Thick Bare Ice:   hsnow=0.00, hice=1.50, hpond=0.0, skin_temp=  0.0\n",
      "Medium1 Bare Ice: hsnow=0.00, hice=0.70, hpond=0.0, skin_temp=  0.0\n",
      "Medium2 Bare Ice: hsnow=0.00, hice=0.30, hpond=0.0, skin_temp=  0.0\n",
      "Thin Bare Ice:    hsnow=0.00, hice=0.09, hpond=0.0, skin_temp=  0.0\n",
      "Melt Pond:        hsnow=0.00, hice=1.50, hpond=0.3, skin_temp=  0.0\n"
     ]
    }
   ],
   "source": [
    "for key, case in SURFACE_CONDITION.items():\n",
    "    hice, hsnow, hpond, skin_temperature = unpack_case(case)\n",
    "    print(f\"{' '.join(key.split('_')).title()+':':17s} hsnow={hsnow:4.2f}, hice={hice:4.2f}, hpond={hpond:3.1f}, skin_temp={skin_temperature:5.1f}\") "
   ]
  },
  {
   "cell_type": "code",
   "execution_count": 14,
   "id": "2018f284-38f1-4a76-b072-e80d527ef20a",
   "metadata": {
    "tags": []
   },
   "outputs": [
    {
     "name": "stdout",
     "output_type": "stream",
     "text": [
      "dry_snow        : 0.0273 0.0273\n",
      "wet_snow        : 0.0260 0.0273\n",
      "thin_wet_snow   : 0.0673 0.2080\n",
      "thick_bare_ice  : 0.0641 0.0641\n",
      "medium1_bare_ice: 0.1380 0.1380\n",
      "medium2_bare_ice: 0.7408 0.7408\n",
      "thin_bare_ice   : 0.3396 0.9139\n",
      "melt_pond       : 0.1250 0.0641\n"
     ]
    }
   ],
   "source": [
    "for key, case in SURFACE_CONDITION.items():\n",
    "    hice, hsnow, hpond, skin_temperature = unpack_case(case)\n",
    "    trans_new = transmission.calculate_transmittance(hice, hsnow, hpond, skin_temperature)\n",
    "    trans_orig = get_f_att_snow(hsnow, hice, skin_temperature)\n",
    "    print(f\"{key:16s}: {trans_new:5.4f} {trans_orig:5.4f}\")"
   ]
  },
  {
   "cell_type": "markdown",
   "id": "d6d15328-3e38-48de-89aa-e3fd73a331ad",
   "metadata": {},
   "source": [
    "## Reasons for differences\n",
    "\n",
    "There are differences for the wet_snow, thin_wet_snow, and thin_bare_ice cases.  The reasons for these differences are given below.\n",
    "\n",
    "wet_snow - original code tests for temperature greater than zero  \n",
    "For hice < 0.5 there is no surface scattering layer and i0_ice is 1.  - Fixed in my code  \n",
    "thin_bare_ice - The logic in the original code does not allow the hice < 0.1 to behave as expected.  Any ice with hice < 0.5 goes to the first case.  - May need to demonstrate this.  \n",
    "melt_ponds - get_f_att_snow does not deal with melt ponds  \n"
   ]
  },
  {
   "cell_type": "code",
   "execution_count": null,
   "id": "78ed0f7a-6144-49dc-b3fa-2cf5c8172066",
   "metadata": {},
   "outputs": [],
   "source": []
  }
 ],
 "metadata": {
  "kernelspec": {
   "display_name": "Python 3 (ipykernel)",
   "language": "python",
   "name": "python3"
  },
  "language_info": {
   "codemirror_mode": {
    "name": "ipython",
    "version": 3
   },
   "file_extension": ".py",
   "mimetype": "text/x-python",
   "name": "python",
   "nbconvert_exporter": "python",
   "pygments_lexer": "ipython3",
   "version": "3.10.0"
  }
 },
 "nbformat": 4,
 "nbformat_minor": 5
}
