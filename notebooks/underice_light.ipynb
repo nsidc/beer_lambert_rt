{
 "cells": [
  {
   "cell_type": "raw",
   "id": "4fe629ff-ec20-4054-8f97-d283aba9afba",
   "metadata": {
    "tags": []
   },
   "source": [
    "---\n",
    "title: \"Light Under Sea Ice\"\n",
    "author: \"Andrew P. Barrett\"\n",
    "date: \"2023-02-24\"\n",
    "bibliography: \"../docs/references.bib\"\n",
    "format:\n",
    "    html:\n",
    "        code-fold: false       \n",
    "---"
   ]
  },
  {
   "cell_type": "raw",
   "id": "10d99445-f87c-4979-80c3-c86c13ee2ef5",
   "metadata": {
    "tags": []
   },
   "source": [
    "```{python}\n",
    "#| fold-code: true\n",
    "from IPython.display import Markdown\n",
    "#from tabulate import tabulate\n",
    "```"
   ]
  },
  {
   "cell_type": "markdown",
   "id": "d7a3b0b5-e3a3-4b93-b7f2-86039e223dbe",
   "metadata": {},
   "source": [
    "# Light under sea ice\n",
    "\n",
    "The notebook demonstrates estimating photosynthetically active radiation (PAR) under sea ice following @stroeve_multi-sensor_2021.  The approach of @stroeve_multi-sensor_2021 is based on that of @maykut1971 and @grenfell_optical_1977.  The approach uses apparent optical properties (albedo $\\alpha$ and attenuation coefficient $\\kappa$) in a two level Bouger-Lambert-Beer exponential decay model.  The first level represents the surface scattering layer - not included for dry snow.  The second level is snow-ice column.\n",
    "\n",
    "_Need a description of what the snow sea ice column looks like with a diagram and maybe some images_ \n",
    "\n",
    "The model is implemented here, first, using basic numpy functions.  It is then extended to account for distributions of ice thickness and snow depth.  "
   ]
  },
  {
   "cell_type": "code",
   "execution_count": null,
   "id": "1971fee2-bc33-44e9-81cc-e9e3761e6a0a",
   "metadata": {
    "tags": []
   },
   "outputs": [],
   "source": [
    "import numpy as np\n",
    "\n",
    "from beer_lambert_rt.constants import (hssl_ice, hssl_dry_snow, hssl_wet_snow,\n",
    "                                       k_ice, k_dry_snow, k_wet_snow, k_thin_wet_snow,\n",
    "                                       i0_ice, i0_dry_snow, i0_wet_snow, i0_melt_ponds,\n",
    "                                       albedo_open_water)\n",
    "import beer_lambert_rt.transmission as transmission"
   ]
  },
  {
   "cell_type": "markdown",
   "id": "52f80883-d369-45eb-9079-59792221180d",
   "metadata": {},
   "source": [
    "## Bouger-Lambert-Beer Model\n",
    "\n",
    "The Bouger-Lambert-Beer model is an approximation of the Radiative Transfer Equation that assumes all attenuation in a medium occurs by absorption.  Single scattering and multiple scattering terms vanish.  Radiative flux $F$ at the base of a column of depth $z$ is given by;\n",
    "\n",
    "$$\n",
    "F = F_{0}\\exp{(- \\kappa z)}\n",
    "$$ {#eq-expontential_attenuation}\n",
    "\n",
    "where $F_{0}$ is the radiative flux at the upper surface of the medium of interest and $\\kappa$ is the attenuation coefficient of the medium.\n",
    "\n",
    "Sea ice may be covered by snow.  Furthermore, wet snow and bare sea ice have a surface scattering layer (SSL) that may be up to 10 cm in depth.  Incoming solar radiation is absorbed (or scattered) by this SSL.  @maykut1971 account for this reduction in radiation transmitted through the SSL with a surface transmission function $i_{0}$.  Radiation is then attenuated by the snow (if present) and ice layers below the SSL.  Snow and ice have different attenuation coefficients (_Need Ref_).  The transmission coefficient $T_{ocean}$ for a snow covered ice is the product of two exponential terms, one for snow and one for ice.\n",
    "\n",
    "$$\n",
    "T_{ocean} = i_{0,snow} (1 - \\alpha_{snow}) \\exp(-\\kappa_{snow}(h_{snow} - h_{ssl})) \\exp(-\\kappa_{ice} h_{ice})\n",
    "$$\n",
    "\n",
    "where $i_{0,snow}$ is the surface transmission parameter for snow, $\\alpha_{snow}$ is the snow albedo, $\\kappa_{snow}$ and $\\kappa_{ice}$ are attenuation coeffiecnts for snow and ice, and $h_{snow}$, $h_{ssl}$ and $h_{ice}$ are snow depth, thickness of the SSL, and ice thickness respectively.\n",
    "\n",
    "For bare ice\n",
    "\n",
    "$$\n",
    "T_{ocean} = i_{0,ice} (1 - \\alpha_{ice}) \\exp(-\\kappa_{ice} (h_{ice} - h_{ssl}))\n",
    "$$\n",
    "\n",
    "Radiative flux at the ice-ocean interface is then\n",
    "\n",
    "$$\n",
    "F_{ocean} = F_{0} T_{ocean}\n",
    "$$\n"
   ]
  },
  {
   "cell_type": "markdown",
   "id": "37e7ff84-73bd-45f6-b7f0-5821d38ae40b",
   "metadata": {},
   "source": [
    "### Implementation\n",
    "\n",
    "The code cell below demonstrates how the Beer-Lambert RT modelis implemented.  \n",
    "\n",
    "Rather than having separate functions for each situation or having a complex nest of _if-elif-else_ conditional blocks, parameters are first selected based on snow depth (if present), skin temperature, melt pond depth (if present) and ice thickness.  These are then passed to a pair of common of exponential decay functions: one for snow and one for ice.\n",
    "\n",
    "$$\n",
    "esnow = \\exp{[-\\kappa_{snow}(h_{snow} - h_{ssl})]}\n",
    "$$\n",
    "\n",
    "and\n",
    "\n",
    "$$\n",
    "eice = \\exp{[-\\kappa_{ice}(h_{ice} - h_{ssl})]}\n",
    "$$\n",
    "\n",
    "$esnow$ evaluates to 1 if $h_{snow}$ is zero.  $eice$ could also evaulate to 1. if $h_{ice}$ is also zero.  But this situation will raise a `ValueError` in the code.\n",
    "\n",
    "The surface transmission parameter $i_0$ is also selected based on surface conditions (surface type: base ice, melting snow, dry snow or pond) and temperature.  The total transmittance for the snow-ice-pond column is the product of $esnow$, $eice$ and $i_0$.\n",
    "\n",
    "This approach has several benefits.  First, it is clearer because it avoids the _if-elif-else_ structures.  Second it is more efficient.  Conditionals take time to evaluate.  I utilize the `numpy.piecewise` and `numpy.select` functions.  This allows arrays for `hce`, `hsnow`, `hpond` and `surface_temperature` to be passed and evaulated at once.  Third, it is easier to maintain and make changes to the code.  Functions to select parameters can be modified individually without having to modify the transmittance function.  There is also the possibility to have methods to select parameterizations, as is demonstrated by the surface scattering parameterizations: `green_edge_hssl_*` and `cice_hssl_*`."
   ]
  },
  {
   "cell_type": "code",
   "execution_count": null,
   "id": "14ebe221-e7c8-4ec8-971c-d3e705aed998",
   "metadata": {
    "tags": []
   },
   "outputs": [],
   "source": [
    "hice = 0.01\n",
    "hsnow = 0.\n",
    "hpond = 0.\n",
    "surface_temperature = 1.\n",
    "\n",
    "i0 = transmission.select_surface_transmission(hice, hsnow, hpond, surface_temperature)\n",
    "hssl_ice = transmission.green_edge_hssl_ice(hice, hsnow, hpond)\n",
    "hssl_snow = transmission.green_edge_hssl_snow(hsnow, surface_temperature)\n",
    "kice = transmission.select_attenuation_ice(hice)\n",
    "ksnow = transmission.select_attenuation_snow(hsnow, surface_temperature)\n",
    "\n",
    "# Evaluates to zero when hsnow is zero\n",
    "esnow = np.exp(-1. * ksnow * (hsnow - hssl_snow))\n",
    "\n",
    "eice = np.exp(-1. * kice * (hice - hssl_ice))\n",
    "\n",
    "transmittance = i0 * esnow * eice\n",
    "\n",
    "print(f\"hsnow: {hsnow}\")\n",
    "print(f\"hice: {hice}\")\n",
    "print(f\"hpond: {hpond}\")\n",
    "print(f\"surface_temperature: {surface_temperature}\")\n",
    "print(\"\")\n",
    "print(f\"Surface type: {transmission.surface_type(hice, hsnow, hpond, surface_temperature)}\")\n",
    "print(f\"Surface transmission (i0): {i0}\")\n",
    "print(f\"SSL thickness ice: {hssl_ice}\")\n",
    "print(f\"SSL thickness snow: {hssl_snow}\")\n",
    "print(f\"Attenuation ice (kice): {kice}\")\n",
    "print(\"\")\n",
    "print(\"Calculate transmittance\")\n",
    "print(f\"Snow component of transmittance: {esnow}\")\n",
    "print(f\"Ice component of transmittance: {eice}\")\n",
    "print(f\"Total transmittance: {transmittance}\")"
   ]
  },
  {
   "cell_type": "code",
   "execution_count": null,
   "id": "1563f307-ac0a-4e0e-b290-89b6d9d04432",
   "metadata": {},
   "outputs": [],
   "source": []
  }
 ],
 "metadata": {
  "kernelspec": {
   "display_name": "Python 3 (ipykernel)",
   "language": "python",
   "name": "python3"
  },
  "language_info": {
   "codemirror_mode": {
    "name": "ipython",
    "version": 3
   },
   "file_extension": ".py",
   "mimetype": "text/x-python",
   "name": "python",
   "nbconvert_exporter": "python",
   "pygments_lexer": "ipython3",
   "version": "3.10.0"
  }
 },
 "nbformat": 4,
 "nbformat_minor": 5
}
