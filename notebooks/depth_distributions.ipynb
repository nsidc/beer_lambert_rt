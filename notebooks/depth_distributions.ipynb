{
 "cells": [
  {
   "cell_type": "markdown",
   "id": "dacb09b8-8976-4593-ab18-8a574ba7a87c",
   "metadata": {},
   "source": [
    "## Calculating Snow Depth and Ice Thickness Distributions\n",
    "\n",
    "Snow depth and ice thickness can vary over length scales as short as 100 m.  However, grids of modelled snow depths and satellite-derived ice thicknesses are generally available with cell spacings of 25 km.  For snow depths this grid spacing is determined by the resolution of output grids from atmospheric reanalyses.  For satellite-derived ice thickness products, grid spacing is limited by either the extent of satellite footprints and/or the number of data points to generate grids from sparse points and transects.  It is advantageous to account for subgrid-scale variability of snow depths and ice thickness.  This notebook demonstrates how sub-grid-scale variability is accounted for in the radiative transfer model.\n",
    "\n",
    "Mallet et al (2021) developed probability distributions for snow depth anomalies for snow on sea ice using snow data collected along transects at Russian drifting stations [refe].  Snow depths for each transect measured on a given date were standardized using the mean and standard deviation of snow depths for each transect.  Standard anomaly snow depths $d'$ for each transect are given by:\n",
    "\n",
    "$$\n",
    "d' = \\frac{d_i - \\bar{d_i}}{\\sigma_{d_i}}\n",
    "$$\n",
    "\n",
    "where $d_i$ is a snow depth measured along transect $i$. \n",
    "\n",
    "![Linear relationship between standard deviations and mean snow depth for all data, and for winter and summer data (a,c); and distributions of snow depth anomalies (Mallet et al, 2021, figure 3.](https://github.com/robbiemallett/sub_km/blob/main/figures/fig_3.png)\n",
    "\n",
    "A linear relationship between mean snow depth $\\bar{d}$ and standard deviation of snow depths $\\sigma_d$ for each transect is estimated.  The best fit line is given by\n",
    "\n",
    "$$\n",
    "\\sigma_{d} = 0.417 \\times \\bar{d}\n",
    "$$\n",
    "\n",
    "The distribution of standardized anomalies can be approximated by a skew-normal distribution with skewness $a = 2.54$, location $\\xi = -1.11$ and scale $\\omega = 1.5$  "
   ]
  },
  {
   "cell_type": "code",
   "execution_count": null,
   "id": "c62b34c1-2611-46ea-88b6-66166d61b822",
   "metadata": {
    "tags": []
   },
   "outputs": [],
   "source": [
    "import numpy as np\n",
    "from scipy.stats import skewnorm\n",
    "\n",
    "import matplotlib.pyplot as plt\n",
    "\n",
    "from beer_lambert_rt.distributions import (snow_depth_std, snow_depth_distribution, \n",
    "                                           snow_depth_anomaly_distribution, ice_thickness_distribution)"
   ]
  },
  {
   "cell_type": "markdown",
   "id": "77a420b6-379b-4f39-b860-77a63e2d93a7",
   "metadata": {},
   "source": [
    "The `scipy.stats.skewnorm` class can be used to define a continuous random variate for the Skew-norm distribution."
   ]
  },
  {
   "cell_type": "code",
   "execution_count": null,
   "id": "1fc2c820-055a-48c2-b510-4fc713e168bb",
   "metadata": {
    "tags": []
   },
   "outputs": [],
   "source": [
    "rv = skewnorm(a=2.54, loc=-1.11, scale=1.5)\n",
    "\n",
    "x = np.linspace(-5., 5., 100)\n",
    "p = rv.pdf(x)\n",
    "\n",
    "fig, ax = plt.subplots(figsize=(7,5))\n",
    "ax.axvline(0., color='k', zorder=0)\n",
    "ax.plot(x, p)\n",
    "ax.set_xlabel('Snow Depth Anomaly (m)')\n",
    "ax.set_ylabel('Probability Density')"
   ]
  },
  {
   "cell_type": "markdown",
   "id": "61cc6ebd-864e-41ec-98ee-bbbf0a30edbc",
   "metadata": {},
   "source": [
    "Snow depth anomalies can be transformed into snow depths by multiplying by the standard deviation and adding the mean snow depth.  Where the standard deviation $\\sigma_d$ is given by $0.417 \\times \\bar{d}$."
   ]
  },
  {
   "cell_type": "code",
   "execution_count": null,
   "id": "261edd04-12dc-461d-824f-daafbcc1b06c",
   "metadata": {
    "tags": []
   },
   "outputs": [],
   "source": [
    "# Add plot showing distribution of snow depth\n",
    "\n",
    "# Make join ice thickness and snow depth distributions using mapgrid"
   ]
  },
  {
   "cell_type": "code",
   "execution_count": null,
   "id": "ce81d40a-7115-429e-8d2d-508a61c8ed90",
   "metadata": {
    "tags": []
   },
   "outputs": [],
   "source": [
    "snow_depth_mean = 0.3\n",
    "nbins = 7\n",
    "factor = 3.\n",
    "width = factor * snow_depth_mean / nbins\n",
    "depth, prob = snow_depth_distribution(snow_depth_mean, nbins=nbins, factor=factor)\n",
    "depth, prob, prob.sum()"
   ]
  },
  {
   "cell_type": "markdown",
   "id": "43b083f4-1fe5-4ff2-ad23-2e080a43145d",
   "metadata": {},
   "source": [
    "The transformed snow depths are shown below for a mean snow depth 0.3 m."
   ]
  },
  {
   "cell_type": "code",
   "execution_count": null,
   "id": "d587481f-d105-48ba-ad56-ed4ec323a865",
   "metadata": {},
   "outputs": [],
   "source": [
    "x = np.linspace(-4., 4., 50)\n",
    "y = snow_depth_anomaly_distribution.pdf(x)\n",
    "\n",
    "x = x * snow_depth_std(snow_depth_mean) + snow_depth_mean\n",
    "\n",
    "fig, ax = plt.subplots(figsize=(7,5))\n",
    "ax.axvline(0., color='k', zorder=0)\n",
    "\n",
    "ax.plot(x, y)\n",
    "ax.bar(depth, prob, width=width, color='y', alpha=0.5)"
   ]
  },
  {
   "cell_type": "markdown",
   "id": "a8fb0a90-4608-40c5-9e0c-55a1bfdd034a",
   "metadata": {},
   "source": [
    "The snow depth distribution is a continuous density function.  A discrete distribution is needed for modelling, so the distribution needs to be quantized into N equal-width bins over some interval.\n",
    "\n",
    "For snow data, we decide on 7 bins for the interval 0 to $2 \\bar{h}$.  In this example, the width of each bin is $\\frac{2 \\bar{h}}{7}$.\n",
    "\n",
    "_NB.  The implicit assumption here is that if $\\bar{h}$ is greater than zero, the gridcell, transect or area of interest, is always covered by some snow._."
   ]
  },
  {
   "cell_type": "markdown",
   "id": "ceffbc39-e4d9-4e9b-8f83-ab49a322e64f",
   "metadata": {},
   "source": [
    "## Ice Thickness Distribution"
   ]
  },
  {
   "cell_type": "code",
   "execution_count": null,
   "id": "cb95bba2-48f6-4012-bcd3-b527823a6df1",
   "metadata": {
    "tags": []
   },
   "outputs": [],
   "source": [
    "(ice_thickness_bins, ice_thickness_width), ice_thickness_prob = ice_thickness_distribution(1.5)"
   ]
  },
  {
   "cell_type": "code",
   "execution_count": null,
   "id": "ed024c17-b557-45ee-98f1-e54e9e1a48d7",
   "metadata": {
    "tags": []
   },
   "outputs": [],
   "source": [
    "ice_thickness_bins, ice_thickness_width, ice_thickness_prob"
   ]
  },
  {
   "cell_type": "code",
   "execution_count": null,
   "id": "cd5728bf-8047-4a46-94ab-1821a94f96f4",
   "metadata": {
    "tags": []
   },
   "outputs": [],
   "source": [
    "fig, ax = plt.subplots(figsize=(7,5))\n",
    "\n",
    "ax.set_xlim(0, 1.5)\n",
    "ax.bar(ice_thickness_bins, ice_thickness_prob, width=ice_thickness_width)"
   ]
  },
  {
   "cell_type": "code",
   "execution_count": null,
   "id": "f77f187c-2f79-4030-96d9-136c93e59412",
   "metadata": {},
   "outputs": [],
   "source": []
  }
 ],
 "metadata": {
  "kernelspec": {
   "display_name": "Python 3 (ipykernel)",
   "language": "python",
   "name": "python3"
  },
  "language_info": {
   "codemirror_mode": {
    "name": "ipython",
    "version": 3
   },
   "file_extension": ".py",
   "mimetype": "text/x-python",
   "name": "python",
   "nbconvert_exporter": "python",
   "pygments_lexer": "ipython3",
   "version": "3.10.0"
  }
 },
 "nbformat": 4,
 "nbformat_minor": 5
}
